{
  "cells": [
    {
      "cell_type": "code",
      "execution_count": 1,
      "metadata": {
        "colab": {
          "base_uri": "https://localhost:8080/"
        },
        "id": "vM8qqPATpXQ5",
        "outputId": "3e084f4a-51d5-47a4-9b5e-a1ecf6e3994d"
      },
      "outputs": [
        {
          "name": "stdout",
          "output_type": "stream",
          "text": [
            "Defaulting to user installation because normal site-packages is not writeable\n",
            "Requirement already satisfied: konlpy in c:\\users\\shjung\\appdata\\roaming\\python\\python37\\site-packages (0.6.0)\n",
            "Requirement already satisfied: lxml>=4.1.0 in c:\\users\\shjung\\appdata\\roaming\\python\\python37\\site-packages (from konlpy) (5.3.0)\n",
            "Requirement already satisfied: JPype1>=0.7.0 in c:\\users\\shjung\\appdata\\roaming\\python\\python37\\site-packages (from konlpy) (1.2.0)\n",
            "Requirement already satisfied: numpy>=1.6 in c:\\anaconda3\\envs\\deepgpu\\lib\\site-packages (from konlpy) (1.21.6)\n",
            "Requirement already satisfied: typing-extensions in c:\\anaconda3\\envs\\deepgpu\\lib\\site-packages (from JPype1>=0.7.0->konlpy) (4.7.1)\n"
          ]
        },
        {
          "name": "stderr",
          "output_type": "stream",
          "text": [
            "WARNING: There was an error checking the latest version of pip.\n"
          ]
        }
      ],
      "source": [
        "!pip install konlpy"
      ]
    },
    {
      "cell_type": "code",
      "execution_count": 2,
      "metadata": {
        "id": "Si7iMgxtkqjx"
      },
      "outputs": [],
      "source": [
        "import pandas as pd\n",
        "import numpy as np\n"
      ]
    },
    {
      "cell_type": "code",
      "execution_count": 3,
      "metadata": {
        "colab": {
          "base_uri": "https://localhost:8080/",
          "height": 206
        },
        "id": "aTEmaaBflJDK",
        "outputId": "c4435f5f-8428-40fc-a2e8-b4976b8cb093"
      },
      "outputs": [
        {
          "data": {
            "text/html": [
              "<div>\n",
              "<style scoped>\n",
              "    .dataframe tbody tr th:only-of-type {\n",
              "        vertical-align: middle;\n",
              "    }\n",
              "\n",
              "    .dataframe tbody tr th {\n",
              "        vertical-align: top;\n",
              "    }\n",
              "\n",
              "    .dataframe thead th {\n",
              "        text-align: right;\n",
              "    }\n",
              "</style>\n",
              "<table border=\"1\" class=\"dataframe\">\n",
              "  <thead>\n",
              "    <tr style=\"text-align: right;\">\n",
              "      <th></th>\n",
              "      <th>Names</th>\n",
              "      <th>level</th>\n",
              "      <th>writeDate</th>\n",
              "      <th>score</th>\n",
              "      <th>tag</th>\n",
              "      <th>Reviews</th>\n",
              "      <th>keywords</th>\n",
              "      <th>similar</th>\n",
              "      <th>label</th>\n",
              "    </tr>\n",
              "  </thead>\n",
              "  <tbody>\n",
              "    <tr>\n",
              "      <th>0</th>\n",
              "      <td>가쥭가바앙Lv.1</td>\n",
              "      <td>Lv.1</td>\n",
              "      <td>2024.12.10 (수정됨)</td>\n",
              "      <td>10</td>\n",
              "      <td>#얼굴지방이식</td>\n",
              "      <td>납작한 이마랑 얼굴 볼륨감 라인감 플레저에서 얼굴지방이식으로 해결한지 한달! 지방 ...</td>\n",
              "      <td>\"한 번의 시술로 평생 유지\",</td>\n",
              "      <td>0.501629</td>\n",
              "      <td>1</td>\n",
              "    </tr>\n",
              "    <tr>\n",
              "      <th>1</th>\n",
              "      <td>립밤밤밤밤Lv.1</td>\n",
              "      <td>Lv.1</td>\n",
              "      <td>2024.12.09 (수정됨)</td>\n",
              "      <td>10</td>\n",
              "      <td>#눈밑지방재배치</td>\n",
              "      <td>나이먹으면서 생긴 눈밑 지방.. 툭튀어나오니 주변사람들이 어디 아프냐고 하는데 거울...</td>\n",
              "      <td>\"한 번의 시술로 평생 유지\",</td>\n",
              "      <td>0.551615</td>\n",
              "      <td>1</td>\n",
              "    </tr>\n",
              "    <tr>\n",
              "      <th>2</th>\n",
              "      <td>popmaru6Lv.1</td>\n",
              "      <td>Lv.1</td>\n",
              "      <td>2025.03.18 (수정됨)</td>\n",
              "      <td>10</td>\n",
              "      <td>#얼굴지방이식</td>\n",
              "      <td>매우 유익하고 입소문이 좋아서 골랐습니다! 도착하고 나서 대기 시간도 없이 바로 상...</td>\n",
              "      <td>\"지금 신청하세요!\",</td>\n",
              "      <td>0.631025</td>\n",
              "      <td>1</td>\n",
              "    </tr>\n",
              "    <tr>\n",
              "      <th>3</th>\n",
              "      <td>unniWmp8pwLv.2</td>\n",
              "      <td>Lv.2</td>\n",
              "      <td>2025.03.19 (수정됨)</td>\n",
              "      <td>9</td>\n",
              "      <td>#눈밑지방재배치</td>\n",
              "      <td>플레저 성형외과 정재은 원장님께 부탁드렸습니다. 예산이 맞았던 것과 증례가 깔끔했기...</td>\n",
              "      <td>\"한 번의 시술로 평생 유지\",</td>\n",
              "      <td>0.683709</td>\n",
              "      <td>1</td>\n",
              "    </tr>\n",
              "    <tr>\n",
              "      <th>4</th>\n",
              "      <td>unniCACukGLv.1</td>\n",
              "      <td>Lv.1</td>\n",
              "      <td>2025.03.19 (수정됨)</td>\n",
              "      <td>10</td>\n",
              "      <td>#이마지방이식 #PRP자가지방이식</td>\n",
              "      <td>저는 이마가 평평한 것이 콤플렉스여서 병원을 찾고 있었는데 싸고 증례가 좋은 병원이...</td>\n",
              "      <td>\"리프팅 효과 반영구적\",</td>\n",
              "      <td>0.489824</td>\n",
              "      <td>1</td>\n",
              "    </tr>\n",
              "  </tbody>\n",
              "</table>\n",
              "</div>"
            ],
            "text/plain": [
              "            Names level         writeDate score                 tag  \\\n",
              "0       가쥭가바앙Lv.1  Lv.1  2024.12.10 (수정됨)    10             #얼굴지방이식   \n",
              "1       립밤밤밤밤Lv.1  Lv.1  2024.12.09 (수정됨)    10            #눈밑지방재배치   \n",
              "2    popmaru6Lv.1  Lv.1  2025.03.18 (수정됨)    10             #얼굴지방이식   \n",
              "3  unniWmp8pwLv.2  Lv.2  2025.03.19 (수정됨)     9            #눈밑지방재배치   \n",
              "4  unniCACukGLv.1  Lv.1  2025.03.19 (수정됨)    10  #이마지방이식 #PRP자가지방이식   \n",
              "\n",
              "                                             Reviews           keywords  \\\n",
              "0  납작한 이마랑 얼굴 볼륨감 라인감 플레저에서 얼굴지방이식으로 해결한지 한달! 지방 ...  \"한 번의 시술로 평생 유지\",   \n",
              "1  나이먹으면서 생긴 눈밑 지방.. 툭튀어나오니 주변사람들이 어디 아프냐고 하는데 거울...  \"한 번의 시술로 평생 유지\",   \n",
              "2  매우 유익하고 입소문이 좋아서 골랐습니다! 도착하고 나서 대기 시간도 없이 바로 상...       \"지금 신청하세요!\",   \n",
              "3  플레저 성형외과 정재은 원장님께 부탁드렸습니다. 예산이 맞았던 것과 증례가 깔끔했기...  \"한 번의 시술로 평생 유지\",   \n",
              "4  저는 이마가 평평한 것이 콤플렉스여서 병원을 찾고 있었는데 싸고 증례가 좋은 병원이...     \"리프팅 효과 반영구적\",   \n",
              "\n",
              "    similar  label  \n",
              "0  0.501629      1  \n",
              "1  0.551615      1  \n",
              "2  0.631025      1  \n",
              "3  0.683709      1  \n",
              "4  0.489824      1  "
            ]
          },
          "execution_count": 3,
          "metadata": {},
          "output_type": "execute_result"
        }
      ],
      "source": [
        "data = pd.read_csv('./플레저_result3.csv', encoding='cp949')\n",
        "data.head()"
      ]
    },
    {
      "cell_type": "code",
      "execution_count": 4,
      "metadata": {
        "colab": {
          "base_uri": "https://localhost:8080/",
          "height": 178
        },
        "id": "lKRR8lWslYKx",
        "outputId": "cb882ca9-3688-4398-99c6-49f74c782a25"
      },
      "outputs": [
        {
          "data": {
            "text/plain": [
              "1    5347\n",
              "0     925\n",
              "Name: label, dtype: int64"
            ]
          },
          "execution_count": 4,
          "metadata": {},
          "output_type": "execute_result"
        }
      ],
      "source": [
        "data['label'].value_counts()"
      ]
    },
    {
      "cell_type": "code",
      "execution_count": 5,
      "metadata": {
        "colab": {
          "base_uri": "https://localhost:8080/"
        },
        "id": "z6W_paUwntax",
        "outputId": "96d49508-7ea3-4ced-f268-e271ee0ebdd0"
      },
      "outputs": [
        {
          "name": "stdout",
          "output_type": "stream",
          "text": [
            "0    납작한 이마랑 얼굴 볼륨감 라인감 플레저에서 얼굴지방이식으로 해결한지 한달 지방 빠...\n",
            "1    나이먹으면서 생긴 눈밑 지방 툭튀어나오니 주변사람들이 어디 아프냐고 하는데 거울보니...\n",
            "2    매우 유익하고 입소문이 좋아서 골랐습니다 도착하고 나서 대기 시간도 없이 바로 상담...\n",
            "3    플레저 성형외과 정재은 원장님께 부탁드렸습니다 예산이 맞았던 것과 증례가 깔끔했기 ...\n",
            "4    저는 이마가 평평한 것이 콤플렉스여서 병원을 찾고 있었는데 싸고 증례가 좋은 병원이...\n",
            "Name: Reviews, dtype: object\n",
            "0    [납작하다, 이마, 랑, 얼굴, 볼륨, 감, 라인, 감, 플, 레저, 에서, 얼굴,...\n",
            "1    [나이, 먹다, 생기다, 눈밑, 지방, 툭, 튀어나오다, 주변, 사람, 들, 이, ...\n",
            "2    [매우, 유익하다, 입, 소문, 이, 좋다, 고르다, 도착, 하고, 나서다, 대기,...\n",
            "3    [플, 레저, 성형, 외과, 정재은, 원장, 님, 께, 부탁드리다, 예산, 이, 맞...\n",
            "4    [저, 는, 이마, 가, 평평하다, 것, 이, 콤플렉스, 여서, 병원, 을, 찾다,...\n",
            "Name: Reviews, dtype: object\n"
          ]
        }
      ],
      "source": [
        "# 한글 텍스트 전처리\n",
        "import re\n",
        "from konlpy.tag import Okt\n",
        "\n",
        "okt = Okt()\n",
        "\n",
        "# 텍스트 전처리 함수\n",
        "def clean_text(text):\n",
        "    text = re.sub(r'[^가-힣\\s]', '', text)  # 한글, 공백만 남김\n",
        "    text = re.sub(r'\\s+', ' ', text)\n",
        "    return text.strip()\n",
        "\n",
        "# 형태소 분석 함수\n",
        "def tokenize(text):\n",
        "    return okt.morphs(text, stem=True)  # 어간 추출까지\n",
        "\n",
        "data['Reviews'] = data['Reviews'].apply(lambda x: clean_text(str(x)))\n",
        "print(data['Reviews'].head())\n",
        "\n",
        "data['Reviews'] = data['Reviews'].apply(lambda x: tokenize(str(x)))\n",
        "print(data['Reviews'].head())\n",
        "\n"
      ]
    },
    {
      "cell_type": "code",
      "execution_count": 6,
      "metadata": {
        "colab": {
          "base_uri": "https://localhost:8080/",
          "height": 35
        },
        "id": "wEN3jaDN0wfS",
        "outputId": "9de32729-968e-45b7-ff02-a7b931e440dc"
      },
      "outputs": [
        {
          "data": {
            "text/plain": [
              "'납작하다 이마 랑 얼굴 볼륨 감 라인 감 플 레저 에서 얼굴 지 방이 식 으로 해결 한지 한 달 지방 빠지다 울퉁불퉁하다 곳 없이 매끈하다 자다 채우다 너무 만족하다 있다 생 지방 쓰기 도 하다 원장 님 께서 딱 필요하다 곳 들 꼼꼼하다 수술 해주다 그렇다 같다 예전 에는 사진 찍다 외출 하다 때 괜히 얼굴 라인 가리다 보정 하고 그랬는데 이제 는 완전 당당 이대로 유지 오 랬 동안 해주다 생각 이고 앞 으로 얼굴 라인 관리 볼륨 관리 는 플 레저 여기 서 받다 생각 이에요'"
            ]
          },
          "execution_count": 6,
          "metadata": {},
          "output_type": "execute_result"
        }
      ],
      "source": [
        "data['Reviews'] = data['Reviews'].apply(lambda tokens: ' '.join(tokens))\n",
        "data['Reviews'][0]"
      ]
    },
    {
      "cell_type": "code",
      "execution_count": 7,
      "metadata": {
        "colab": {
          "base_uri": "https://localhost:8080/"
        },
        "id": "Dot-ZYfwlk1Z",
        "outputId": "5921efdf-9778-4ebb-8b66-e361adbe926e"
      },
      "outputs": [
        {
          "name": "stdout",
          "output_type": "stream",
          "text": [
            "925\n",
            "5347\n"
          ]
        }
      ],
      "source": [
        "# 정상 리뷰만 담은 데이터프레임\n",
        "df_norm = data[data['label'] == 0]\n",
        "print(len(df_norm['Reviews']))\n",
        "\n",
        "# 허위인 리뷰만 담은 데이터프레임\n",
        "df_fake = data[data['label'] == 1]\n",
        "print(len(df_fake['Reviews']))"
      ]
    },
    {
      "cell_type": "code",
      "execution_count": 8,
      "metadata": {
        "colab": {
          "base_uri": "https://localhost:8080/"
        },
        "id": "7AYaDQKwmTHR",
        "outputId": "23e2568f-dfae-4866-8caa-a0d63eecaf02"
      },
      "outputs": [],
      "source": [
        "# TF-IDF 벡터라이징\n",
        "\n",
        "from sklearn.feature_extraction.text import TfidfVectorizer\n",
        "\n",
        "vectorizer = TfidfVectorizer(tokenizer=tokenize, max_features=5000)\n",
        "X = vectorizer.fit_transform(data['Reviews'])\n",
        "y = data['label']"
      ]
    },
    {
      "cell_type": "code",
      "execution_count": 9,
      "metadata": {
        "id": "w4hu4ceo0Ssj"
      },
      "outputs": [],
      "source": [
        "# 데이터 분리 작업\n",
        "\n",
        "from sklearn.model_selection import train_test_split\n",
        "from sklearn.metrics import classification_report\n",
        "\n",
        "X_train, X_test, y_train, y_test = train_test_split(X, y, test_size=0.2, random_state=42)"
      ]
    },
    {
      "cell_type": "code",
      "execution_count": 10,
      "metadata": {
        "colab": {
          "base_uri": "https://localhost:8080/"
        },
        "id": "QHAj_AsJ65Fj",
        "outputId": "606c591d-174f-4f13-8e8f-9072cf0fc66e"
      },
      "outputs": [],
      "source": [
        "# # 랜덤포레스트 사용\n",
        "# # 구린거 알지만 그냥 써봄\n",
        "\n",
        "# from sklearn.ensemble import RandomForestClassifier\n",
        "# model = RandomForestClassifier()\n",
        "# model.fit(X_train, y_train)\n",
        "\n",
        "# y_pred = model.predict(X_test)\n",
        "# print(classification_report(y_test, y_pred))\n",
        "\n",
        "# # 사용결과 : 역시나 구림 ㅋㅋ"
      ]
    },
    {
      "cell_type": "code",
      "execution_count": 11,
      "metadata": {
        "id": "1dycP9ZL6467"
      },
      "outputs": [],
      "source": [
        "# # 나이브베이즈 사용\n",
        "# # 특징 : 텍스트 특화, 빠름\n",
        "\n",
        "# from sklearn.naive_bayes import MultinomialNB\n",
        "\n",
        "# model = MultinomialNB()\n",
        "# model.fit(X_train, y_train)\n",
        "\n",
        "# 사용결과 : 판별 정확도가 너무 떨어짐"
      ]
    },
    {
      "cell_type": "code",
      "execution_count": 12,
      "metadata": {
        "colab": {
          "base_uri": "https://localhost:8080/",
          "height": 80
        },
        "id": "qLDtfJZ36KHa",
        "outputId": "6d2464eb-4f9e-423e-dbcf-a8a988b99226"
      },
      "outputs": [
        {
          "data": {
            "text/plain": [
              "LinearSVC(class_weight='balanced')"
            ]
          },
          "execution_count": 12,
          "metadata": {},
          "output_type": "execute_result"
        }
      ],
      "source": [
        "# SVM 사용\n",
        "# 특징 : 높은 정확도\n",
        "\n",
        "# from sklearn.svm import LinearSVC\n",
        "\n",
        "# model = LinearSVC()\n",
        "# model.fit(X_train, y_train)\n",
        "\n",
        "\n",
        "# 가중치 수정본\n",
        "from sklearn.svm import LinearSVC\n",
        "\n",
        "model = LinearSVC(class_weight='balanced')\n",
        "model.fit(X_train, y_train)"
      ]
    },
    {
      "cell_type": "code",
      "execution_count": null,
      "metadata": {
        "colab": {
          "base_uri": "https://localhost:8080/"
        },
        "id": "Y_-aR8QT38fq",
        "outputId": "5a9eae80-82f4-4bb2-b370-4ab2e88da8f4"
      },
      "outputs": [],
      "source": []
    },
    {
      "cell_type": "code",
      "execution_count": 13,
      "metadata": {
        "colab": {
          "base_uri": "https://localhost:8080/"
        },
        "id": "HzzsiOKv3_jb",
        "outputId": "f75a62fe-183a-42e7-e900-b7951fe9d41c"
      },
      "outputs": [
        {
          "name": "stdout",
          "output_type": "stream",
          "text": [
            "              precision    recall  f1-score   support\n",
            "\n",
            "           0       0.52      0.71      0.60       180\n",
            "           1       0.95      0.89      0.92      1075\n",
            "\n",
            "    accuracy                           0.86      1255\n",
            "   macro avg       0.73      0.80      0.76      1255\n",
            "weighted avg       0.89      0.86      0.87      1255\n",
            "\n"
          ]
        }
      ],
      "source": [
        "from sklearn.metrics import classification_report\n",
        "\n",
        "y_pred = model.predict(X_test)\n",
        "print(classification_report(y_test, y_pred))"
      ]
    },
    {
      "cell_type": "code",
      "execution_count": 14,
      "metadata": {
        "colab": {
          "base_uri": "https://localhost:8080/"
        },
        "id": "ioFjbpAl6RTT",
        "outputId": "ff8191f1-4130-4d28-b1c9-68562e4d7756"
      },
      "outputs": [
        {
          "name": "stdout",
          "output_type": "stream",
          "text": [
            "허위 리뷰\n"
          ]
        }
      ],
      "source": [
        "def predict_review(text):\n",
        "    cleaned = clean_text(text)\n",
        "    vectorized = vectorizer.transform([cleaned])\n",
        "    pred = model.predict(vectorized)[0]\n",
        "    return \"허위 리뷰\" if pred == 1 else \"정상 리뷰\"\n",
        "\n",
        "# 사용 예시\n",
        "print(predict_review(\"플레처 브이컷주사 내돈내산후기 결제는 2세트로 6회 100만원이였고 1세트할때보다 가격 저렴해쥠ㅇㅇ 부가세 따로있고 예약비는 2만 5층에서 접수하고 이것저것 설문조사 같은거 하는데 질문이 디게 꼼꼼해서 먼가 좋아씀 나에대해 잘 알아보고 시술해주는 느낌? 실장님상담은 친절했고 원장님 상담 간단하게 한뒤 시술 받았어여 어차피 쁘띠 시술이라 성형수술처럼 길게 물어볼건 없었고 성분이랑 효과나오는 시기정도만 ㅇㅇ 지금 3회차까지 맞았고 중간 점검할겸 후기 남겨봄 일단 주사는 개인차있겠지만 1도 안아팠고 대신 당일에 식빵맨처럼 부었음...ㅋㅋ 효과는 나름 보이는 중인거 같고 턱살쪽 빠지니까 얼굴도 좀 선명해보이는거같은.. 이목구비 또렷하게 보이는느낌^^ 6회차까지 다 맞으면 여기서 더빠지겠죠?? 다맞고 한번 더 남겨볼게요\"))"
      ]
    },
    {
      "cell_type": "code",
      "execution_count": 15,
      "metadata": {
        "colab": {
          "base_uri": "https://localhost:8080/"
        },
        "id": "KmLgrG9h6n4r",
        "outputId": "14091248-299b-40b0-f8c3-ca6fec7be9aa"
      },
      "outputs": [
        {
          "name": "stdout",
          "output_type": "stream",
          "text": [
            "허위 리뷰\n"
          ]
        }
      ],
      "source": [
        "def predict_review(text):\n",
        "    cleaned = clean_text(text)\n",
        "    vectorized = vectorizer.transform([cleaned])\n",
        "    pred = model.predict(vectorized)[0]\n",
        "    return \"허위 리뷰\" if pred == 1 else \"정상 리뷰\"\n",
        "\n",
        "# 사용 예시\n",
        "print(predict_review('지방분해주사 고민하시는 분들 플레처 추천해요! 👍👍 이번 여름에 결혼식을 올릴 예정이라 급하게 다이어트가 필요한 상황이었습니다.. 특히 배는 튼살이 생길만큼 갑자기 살이 쪘었는데요 ㅠㅠ 컷주사 덕분에 찐살 도로 안드로메다로 돌려보냈습니다 ^^ 사실 이렇게 얄상하게 빠지는 것 까진 기대를 안했는데 3회차 이후부터는 쭉쭉 빠지더라고요 ㅎㅎ 1회 맞았을 때 변화가 크지 않아서 조바심 냈던 거 생각하면 부끄부끄하구 그래요..ㅠ_ㅠ 시간이 답이고 투자해서 관리하는 건 배신하지 않더라구용~! ㅎㅎ 앞으로도 식단관리 잘해서 유지 해보려구 해용 ㅎㅎ 아 그리구 처음 상담 잡을 때 상담비 2만원 있는데 시술 가격에서 빼서 적용해주십니당!! 참고하시라구 적어봐요~'))"
      ]
    },
    {
      "cell_type": "code",
      "execution_count": 16,
      "metadata": {
        "colab": {
          "base_uri": "https://localhost:8080/"
        },
        "id": "i-UoRMP-6ybC",
        "outputId": "407c01ab-8d3f-496d-9713-ccbc5c36c264"
      },
      "outputs": [
        {
          "name": "stdout",
          "output_type": "stream",
          "text": [
            "허위 리뷰\n"
          ]
        }
      ],
      "source": [
        "print(predict_review(input(str)))"
      ]
    },
    {
      "cell_type": "code",
      "execution_count": 17,
      "metadata": {
        "colab": {
          "base_uri": "https://localhost:8080/",
          "height": 206
        },
        "id": "i3p5yCfM6TkT",
        "outputId": "f0fb4184-f0dd-4778-9cbd-633c59a38a53"
      },
      "outputs": [
        {
          "data": {
            "text/html": [
              "<div>\n",
              "<style scoped>\n",
              "    .dataframe tbody tr th:only-of-type {\n",
              "        vertical-align: middle;\n",
              "    }\n",
              "\n",
              "    .dataframe tbody tr th {\n",
              "        vertical-align: top;\n",
              "    }\n",
              "\n",
              "    .dataframe thead th {\n",
              "        text-align: right;\n",
              "    }\n",
              "</style>\n",
              "<table border=\"1\" class=\"dataframe\">\n",
              "  <thead>\n",
              "    <tr style=\"text-align: right;\">\n",
              "      <th></th>\n",
              "      <th>Names</th>\n",
              "      <th>level</th>\n",
              "      <th>writeDate</th>\n",
              "      <th>score</th>\n",
              "      <th>tag</th>\n",
              "      <th>Reviews</th>\n",
              "      <th>keywords</th>\n",
              "      <th>similar</th>\n",
              "      <th>label</th>\n",
              "    </tr>\n",
              "  </thead>\n",
              "  <tbody>\n",
              "    <tr>\n",
              "      <th>0</th>\n",
              "      <td>가쥭가바앙Lv.1</td>\n",
              "      <td>Lv.1</td>\n",
              "      <td>2024.12.10 (수정됨)</td>\n",
              "      <td>10</td>\n",
              "      <td>#얼굴지방이식</td>\n",
              "      <td>납작한 이마랑 얼굴 볼륨감 라인감 플레저에서 얼굴지방이식으로 해결한지 한달! 지방 ...</td>\n",
              "      <td>\"한 번의 시술로 평생 유지\",</td>\n",
              "      <td>0.501629</td>\n",
              "      <td>1</td>\n",
              "    </tr>\n",
              "    <tr>\n",
              "      <th>1</th>\n",
              "      <td>립밤밤밤밤Lv.1</td>\n",
              "      <td>Lv.1</td>\n",
              "      <td>2024.12.09 (수정됨)</td>\n",
              "      <td>10</td>\n",
              "      <td>#눈밑지방재배치</td>\n",
              "      <td>나이먹으면서 생긴 눈밑 지방.. 툭튀어나오니 주변사람들이 어디 아프냐고 하는데 거울...</td>\n",
              "      <td>\"한 번의 시술로 평생 유지\",</td>\n",
              "      <td>0.551615</td>\n",
              "      <td>1</td>\n",
              "    </tr>\n",
              "    <tr>\n",
              "      <th>2</th>\n",
              "      <td>popmaru6Lv.1</td>\n",
              "      <td>Lv.1</td>\n",
              "      <td>2025.03.18 (수정됨)</td>\n",
              "      <td>10</td>\n",
              "      <td>#얼굴지방이식</td>\n",
              "      <td>매우 유익하고 입소문이 좋아서 골랐습니다! 도착하고 나서 대기 시간도 없이 바로 상...</td>\n",
              "      <td>\"지금 신청하세요!\",</td>\n",
              "      <td>0.631025</td>\n",
              "      <td>1</td>\n",
              "    </tr>\n",
              "    <tr>\n",
              "      <th>3</th>\n",
              "      <td>unniWmp8pwLv.2</td>\n",
              "      <td>Lv.2</td>\n",
              "      <td>2025.03.19 (수정됨)</td>\n",
              "      <td>9</td>\n",
              "      <td>#눈밑지방재배치</td>\n",
              "      <td>플레저 성형외과 정재은 원장님께 부탁드렸습니다. 예산이 맞았던 것과 증례가 깔끔했기...</td>\n",
              "      <td>\"한 번의 시술로 평생 유지\",</td>\n",
              "      <td>0.683709</td>\n",
              "      <td>1</td>\n",
              "    </tr>\n",
              "    <tr>\n",
              "      <th>4</th>\n",
              "      <td>unniCACukGLv.1</td>\n",
              "      <td>Lv.1</td>\n",
              "      <td>2025.03.19 (수정됨)</td>\n",
              "      <td>10</td>\n",
              "      <td>#이마지방이식 #PRP자가지방이식</td>\n",
              "      <td>저는 이마가 평평한 것이 콤플렉스여서 병원을 찾고 있었는데 싸고 증례가 좋은 병원이...</td>\n",
              "      <td>\"리프팅 효과 반영구적\",</td>\n",
              "      <td>0.489824</td>\n",
              "      <td>1</td>\n",
              "    </tr>\n",
              "  </tbody>\n",
              "</table>\n",
              "</div>"
            ],
            "text/plain": [
              "            Names level         writeDate score                 tag  \\\n",
              "0       가쥭가바앙Lv.1  Lv.1  2024.12.10 (수정됨)    10             #얼굴지방이식   \n",
              "1       립밤밤밤밤Lv.1  Lv.1  2024.12.09 (수정됨)    10            #눈밑지방재배치   \n",
              "2    popmaru6Lv.1  Lv.1  2025.03.18 (수정됨)    10             #얼굴지방이식   \n",
              "3  unniWmp8pwLv.2  Lv.2  2025.03.19 (수정됨)     9            #눈밑지방재배치   \n",
              "4  unniCACukGLv.1  Lv.1  2025.03.19 (수정됨)    10  #이마지방이식 #PRP자가지방이식   \n",
              "\n",
              "                                             Reviews           keywords  \\\n",
              "0  납작한 이마랑 얼굴 볼륨감 라인감 플레저에서 얼굴지방이식으로 해결한지 한달! 지방 ...  \"한 번의 시술로 평생 유지\",   \n",
              "1  나이먹으면서 생긴 눈밑 지방.. 툭튀어나오니 주변사람들이 어디 아프냐고 하는데 거울...  \"한 번의 시술로 평생 유지\",   \n",
              "2  매우 유익하고 입소문이 좋아서 골랐습니다! 도착하고 나서 대기 시간도 없이 바로 상...       \"지금 신청하세요!\",   \n",
              "3  플레저 성형외과 정재은 원장님께 부탁드렸습니다. 예산이 맞았던 것과 증례가 깔끔했기...  \"한 번의 시술로 평생 유지\",   \n",
              "4  저는 이마가 평평한 것이 콤플렉스여서 병원을 찾고 있었는데 싸고 증례가 좋은 병원이...     \"리프팅 효과 반영구적\",   \n",
              "\n",
              "    similar  label  \n",
              "0  0.501629      1  \n",
              "1  0.551615      1  \n",
              "2  0.631025      1  \n",
              "3  0.683709      1  \n",
              "4  0.489824      1  "
            ]
          },
          "execution_count": 17,
          "metadata": {},
          "output_type": "execute_result"
        }
      ],
      "source": [
        "data_orig = pd.read_csv('./플레저_result3.csv', encoding='cp949')\n",
        "data_orig.head()"
      ]
    },
    {
      "cell_type": "code",
      "execution_count": 18,
      "metadata": {
        "id": "SkOZ4rSt8w_U"
      },
      "outputs": [],
      "source": [
        "# 실제 적용\n",
        "data_orig['conclusion'] = data_orig['Reviews'].apply(lambda x: predict_review(str(x)))"
      ]
    },
    {
      "cell_type": "code",
      "execution_count": 19,
      "metadata": {
        "colab": {
          "base_uri": "https://localhost:8080/",
          "height": 206
        },
        "id": "fYH7wzWj8c_T",
        "outputId": "4c33743f-9d2c-4db7-96f1-7eb4f83f7a88"
      },
      "outputs": [
        {
          "data": {
            "text/plain": [
              "허위 리뷰    4917\n",
              "정상 리뷰    1355\n",
              "Name: conclusion, dtype: int64"
            ]
          },
          "execution_count": 19,
          "metadata": {},
          "output_type": "execute_result"
        }
      ],
      "source": [
        "data_orig.head\n",
        "\n",
        "data_orig['conclusion'].value_counts()"
      ]
    },
    {
      "cell_type": "code",
      "execution_count": 20,
      "metadata": {
        "id": "m3nW6JeZ_hFk"
      },
      "outputs": [],
      "source": [
        "data_orig.to_csv('플레저_결과물_가중치.csv', index=False, encoding='utf-8-sig')"
      ]
    },
    {
      "cell_type": "code",
      "execution_count": 21,
      "metadata": {},
      "outputs": [
        {
          "data": {
            "text/plain": [
              "'c:\\\\아나콘다\\\\프로젝트'"
            ]
          },
          "execution_count": 21,
          "metadata": {},
          "output_type": "execute_result"
        }
      ],
      "source": [
        "import os\n",
        "os.getcwd()"
      ]
    },
    {
      "cell_type": "code",
      "execution_count": 23,
      "metadata": {
        "colab": {
          "base_uri": "https://localhost:8080/",
          "height": 178
        },
        "id": "YV5yJB1N_sFM",
        "outputId": "ce426c49-8c72-46ea-f163-3f1470c48ce0"
      },
      "outputs": [],
      "source": [
        "# 가중치 안넣은 결과물\n",
        "# pd.read_csv('./플레저_결과물.csv', encoding='utf-8')['conclusion'].value_counts()"
      ]
    },
    {
      "cell_type": "code",
      "execution_count": null,
      "metadata": {
        "colab": {
          "base_uri": "https://localhost:8080/",
          "height": 178
        },
        "id": "6soYj1PFAJN8",
        "outputId": "3c105598-f897-4a78-ee0a-41dee81c09a5"
      },
      "outputs": [
        {
          "data": {
            "text/plain": [
              "허위 리뷰    4917\n",
              "정상 리뷰    1355\n",
              "Name: conclusion, dtype: int64"
            ]
          },
          "execution_count": 32,
          "metadata": {},
          "output_type": "execute_result"
        }
      ],
      "source": [
        "# 가중치 넣은 결과물 (살짝 과적합)\n",
        "pd.read_csv('./플레저_결과물_가중치.csv', encoding='utf-8')['conclusion'].value_counts()"
      ]
    },
    {
      "cell_type": "code",
      "execution_count": null,
      "metadata": {
        "id": "uxGfMKpdDo9E"
      },
      "outputs": [],
      "source": []
    }
  ],
  "metadata": {
    "colab": {
      "provenance": []
    },
    "kernelspec": {
      "display_name": "deepgpu",
      "language": "python",
      "name": "python3"
    },
    "language_info": {
      "codemirror_mode": {
        "name": "ipython",
        "version": 3
      },
      "file_extension": ".py",
      "mimetype": "text/x-python",
      "name": "python",
      "nbconvert_exporter": "python",
      "pygments_lexer": "ipython3",
      "version": "3.7.16"
    }
  },
  "nbformat": 4,
  "nbformat_minor": 0
}
